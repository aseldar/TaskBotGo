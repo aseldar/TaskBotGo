{
 "cells": [
  {
   "cell_type": "code",
   "execution_count": 2,
   "id": "fa83d42e",
   "metadata": {},
   "outputs": [
    {
     "name": "stdout",
     "output_type": "stream",
     "text": [
      "Successfully connected to Redis!\n"
     ]
    }
   ],
   "source": [
    "import redis\n",
    "\n",
    "# Создаем подключение к Redis\n",
    "redis_host = 'localhost'\n",
    "redis_port = 6379\n",
    "redis_password = None  # Если у Redis нет пароля, оставьте None\n",
    "\n",
    "# Создаем клиента Redis\n",
    "redis_client = redis.Redis(host=redis_host, port=redis_port, password=redis_password)\n",
    "\n",
    "# Тестируем подключение\n",
    "try:\n",
    "    redis_client.ping()\n",
    "    print(\"Successfully connected to Redis!\")\n",
    "except redis.ConnectionError:\n",
    "    print(\"Failed to connect to Redis.\")"
   ]
  },
  {
   "cell_type": "code",
   "execution_count": null,
   "id": "d187c4ef",
   "metadata": {},
   "outputs": [],
   "source": []
  },
  {
   "cell_type": "code",
   "execution_count": null,
   "id": "667fd5eb",
   "metadata": {},
   "outputs": [],
   "source": []
  },
  {
   "cell_type": "code",
   "execution_count": null,
   "id": "558b9016",
   "metadata": {},
   "outputs": [],
   "source": []
  },
  {
   "cell_type": "code",
   "execution_count": null,
   "id": "152aba70",
   "metadata": {},
   "outputs": [],
   "source": []
  },
  {
   "cell_type": "code",
   "execution_count": 3,
   "id": "63ec4293",
   "metadata": {},
   "outputs": [
    {
     "data": {
      "text/plain": [
       "<Response [201]>"
      ]
     },
     "execution_count": 3,
     "metadata": {},
     "output_type": "execute_result"
    }
   ],
   "source": [
    "import requests\n",
    "\n",
    "requests.post(\"http://localhost:8080/add\", json={\"description\": \"Приветики!\"})"
   ]
  },
  {
   "cell_type": "code",
   "execution_count": 4,
   "id": "174777c6",
   "metadata": {},
   "outputs": [
    {
     "name": "stdout",
     "output_type": "stream",
     "text": [
      "<Response [200]>\n"
     ]
    }
   ],
   "source": [
    "print(requests.get(\"http://localhost:8080/view\"))"
   ]
  },
  {
   "cell_type": "code",
   "execution_count": 5,
   "id": "27ff1e1f",
   "metadata": {},
   "outputs": [
    {
     "data": {
      "text/plain": [
       "200"
      ]
     },
     "execution_count": 5,
     "metadata": {},
     "output_type": "execute_result"
    }
   ],
   "source": [
    "response = requests.get(\"http://localhost:8080/view\")\n",
    "response.status_code"
   ]
  },
  {
   "cell_type": "code",
   "execution_count": 6,
   "id": "cd5142a7",
   "metadata": {},
   "outputs": [
    {
     "data": {
      "text/plain": [
       "['Test task 7',\n",
       " 'Test_task2',\n",
       " 'Test task 1',\n",
       " 'Приветики!',\n",
       " 'Test task 0',\n",
       " 'Test_task1',\n",
       " 'task_description 100']"
      ]
     },
     "execution_count": 6,
     "metadata": {},
     "output_type": "execute_result"
    }
   ],
   "source": [
    "response.json()"
   ]
  },
  {
   "cell_type": "code",
   "execution_count": null,
   "id": "ee0014f3",
   "metadata": {},
   "outputs": [],
   "source": []
  },
  {
   "cell_type": "code",
   "execution_count": null,
   "id": "3fc004d1",
   "metadata": {},
   "outputs": [],
   "source": []
  },
  {
   "cell_type": "code",
   "execution_count": null,
   "id": "ffd0e3a2",
   "metadata": {},
   "outputs": [],
   "source": []
  },
  {
   "cell_type": "code",
   "execution_count": null,
   "id": "727ed4e5",
   "metadata": {},
   "outputs": [],
   "source": []
  },
  {
   "cell_type": "code",
   "execution_count": null,
   "id": "9ecfc34a",
   "metadata": {},
   "outputs": [],
   "source": []
  },
  {
   "cell_type": "code",
   "execution_count": null,
   "id": "b008e260",
   "metadata": {},
   "outputs": [],
   "source": []
  },
  {
   "cell_type": "code",
   "execution_count": 3,
   "id": "27f0f612",
   "metadata": {},
   "outputs": [],
   "source": [
    "\n",
    "import logging\n",
    "from telegram import Update, ParseMode\n",
    "from telegram.ext import Updater, CommandHandler, MessageHandler, Filters, CallbackContext\n",
    "import requests\n",
    "\n",
    "TOKEN = '6647242605:AAGk3bwBMi3h4SSqXg5YhwEISBuzUM1DfX8'\n",
    "\n",
    "# Настройка логирования\n",
    "logging.basicConfig(format='%(asctime)s - %(name)s - %(levelname)s - %(message)s',\n",
    "                     level=logging.INFO)\n",
    "logger = logging.getLogger(__name__)\n",
    "\n",
    "# Функция для обработки команды /start\n",
    "def start(update: Update, _: CallbackContext) -> None:\n",
    "    update.message.reply_text('Привет! Я TaskBotGo, бот для управления задачами. '\n",
    "                              'Используйте команду /add для добавления задачи и /view для просмотра списка задач.')\n",
    "\n",
    "# Функция для обработки команды /add\n",
    "def add_task(update: Update, _: CallbackContext) -> None:\n",
    "    # Получаем описание задачи из сообщения пользователя\n",
    "    task_description = update.message.text.replace('/add', '').strip()\n",
    "    if task_description:\n",
    "        # Отправляем описание задачи в Golang API сервер для добавления в Redis\n",
    "        # Здесь необходимо заменить \"http://localhost:8080/add\" на реальный адрес вашего Golang API сервера\n",
    "        response = requests.post(\"http://localhost:8080/add\", json={\"description\": task_description})\n",
    "        if response.status_code == 201:\n",
    "            update.message.reply_text('Задача успешно добавлена!')\n",
    "        else:\n",
    "            update.message.reply_text('Не удалось добавить задачу.')\n",
    "    else:\n",
    "        update.message.reply_text('Пожалуйста, укажите описание задачи после команды /add.')\n",
    "\n",
    "# Функция для обработки команды /view\n",
    "def view_tasks(update: Update, _: CallbackContext) -> None:\n",
    "    # Отправляем запрос в Golang API сервер для получения списка задач из Redis\n",
    "    # Здесь необходимо заменить \"http://localhost:8080/view\" на реальный адрес вашего Golang API сервера\n",
    "    response = requests.get(\"http://localhost:8080/view\")\n",
    "    if response.status_code == 200:\n",
    "        tasks = response.json()\n",
    "        if tasks:\n",
    "            task_list = '\\n'.join(tasks)\n",
    "            update.message.reply_text(f'Список задач:\\n{task_list}', parse_mode=ParseMode.MARKDOWN)\n",
    "        else:\n",
    "            update.message.reply_text('Список задач пуст.')\n",
    "    else:\n",
    "        update.message.reply_text('Не удалось получить список задач.')\n",
    "\n",
    "def main():\n",
    "    # Укажите токен вашего Telegram бота\n",
    "    updater = Updater(TOKEN)\n",
    "\n",
    "    # Получаем диспетчер и добавляем обработчики команд\n",
    "    dp = updater.dispatcher\n",
    "    dp.add_handler(CommandHandler(\"start\", start))\n",
    "    dp.add_handler(CommandHandler(\"add\", add_task))\n",
    "    dp.add_handler(CommandHandler(\"view\", view_tasks))\n",
    "\n",
    "    # Запускаем бота\n",
    "    updater.start_polling()\n",
    "    updater.idle()\n",
    "\n",
    "# if __name__ == '__main__':\n",
    "#     main()\n"
   ]
  },
  {
   "cell_type": "code",
   "execution_count": null,
   "id": "119556ed",
   "metadata": {},
   "outputs": [],
   "source": []
  },
  {
   "cell_type": "code",
   "execution_count": null,
   "id": "d22d306e",
   "metadata": {},
   "outputs": [],
   "source": []
  },
  {
   "cell_type": "code",
   "execution_count": null,
   "id": "619fc010",
   "metadata": {},
   "outputs": [],
   "source": []
  },
  {
   "cell_type": "code",
   "execution_count": null,
   "id": "793e0ce9",
   "metadata": {},
   "outputs": [],
   "source": []
  },
  {
   "cell_type": "code",
   "execution_count": null,
   "id": "072d7855",
   "metadata": {},
   "outputs": [],
   "source": []
  },
  {
   "cell_type": "code",
   "execution_count": null,
   "id": "ef056c55",
   "metadata": {},
   "outputs": [],
   "source": []
  },
  {
   "cell_type": "code",
   "execution_count": null,
   "id": "303448cb",
   "metadata": {},
   "outputs": [],
   "source": []
  },
  {
   "cell_type": "code",
   "execution_count": null,
   "id": "783d9645",
   "metadata": {},
   "outputs": [],
   "source": []
  },
  {
   "cell_type": "code",
   "execution_count": null,
   "id": "6725a06b",
   "metadata": {},
   "outputs": [],
   "source": []
  },
  {
   "cell_type": "code",
   "execution_count": null,
   "id": "eba1881e",
   "metadata": {},
   "outputs": [],
   "source": []
  },
  {
   "cell_type": "code",
   "execution_count": null,
   "id": "3fab4d7f",
   "metadata": {},
   "outputs": [],
   "source": []
  },
  {
   "cell_type": "code",
   "execution_count": null,
   "id": "9a277b1b",
   "metadata": {},
   "outputs": [],
   "source": []
  },
  {
   "cell_type": "code",
   "execution_count": null,
   "id": "3d3e7c87",
   "metadata": {},
   "outputs": [],
   "source": []
  },
  {
   "cell_type": "code",
   "execution_count": null,
   "id": "b9ca2b3c",
   "metadata": {},
   "outputs": [],
   "source": []
  },
  {
   "cell_type": "code",
   "execution_count": null,
   "id": "c75c4a80",
   "metadata": {},
   "outputs": [],
   "source": []
  },
  {
   "cell_type": "code",
   "execution_count": null,
   "id": "a698159d",
   "metadata": {},
   "outputs": [],
   "source": []
  },
  {
   "cell_type": "code",
   "execution_count": null,
   "id": "abb4f14b",
   "metadata": {},
   "outputs": [],
   "source": []
  }
 ],
 "metadata": {
  "kernelspec": {
   "display_name": "Python 3 (ipykernel)",
   "language": "python",
   "name": "python3"
  },
  "language_info": {
   "codemirror_mode": {
    "name": "ipython",
    "version": 3
   },
   "file_extension": ".py",
   "mimetype": "text/x-python",
   "name": "python",
   "nbconvert_exporter": "python",
   "pygments_lexer": "ipython3",
   "version": "3.10.9"
  }
 },
 "nbformat": 4,
 "nbformat_minor": 5
}
